{
 "cells": [
  {
   "cell_type": "code",
   "execution_count": 1,
   "id": "3c8767d6",
   "metadata": {},
   "outputs": [
    {
     "data": {
      "text/plain": [
       "Index(['address', 'name', 'isContract', 'isWhale', 'network', 'serviceType',\n",
       "       'sub1Service', 'walletPurpose', 'sub1Wallet'],\n",
       "      dtype='object')"
      ]
     },
     "execution_count": 1,
     "metadata": {},
     "output_type": "execute_result"
    }
   ],
   "source": [
    "import pandas as pd\n",
    "\n",
    "addrs = pd.read_csv('addr_info.csv', index_col=0)\n",
    "addrs = addrs[~((addrs.duplicated(subset=['address'])) & \n",
    "          (~addrs['name'].isin(['binance', 'coinbase', 'bullish'])))].drop_duplicates(subset=['address'])\n",
    "addrs.name = addrs.name.str.lower()\n",
    "feats = ['name', 'serviceType', 'sub1Service', 'walletPurpose', 'sub1Wallet']\n",
    "addrs.columns\n",
    "# addrs[addrs.address.isin(addrs[addrs.duplicated(subset=['address'])].address)]"
   ]
  },
  {
   "cell_type": "code",
   "execution_count": 2,
   "id": "9cdee9de",
   "metadata": {},
   "outputs": [
    {
     "name": "stdout",
     "output_type": "stream",
     "text": [
      "DuckDB connection established successfully\n"
     ]
    }
   ],
   "source": [
    "import duckdb\n",
    "\n",
    "# Initialize DuckDB connection\n",
    "try:\n",
    "    conn = duckdb.connect('duckdb_test.db', read_only=False)\n",
    "    print('DuckDB connection established successfully')\n",
    "except Exception as e:\n",
    "    print(f'Error connecting to DuckDB: {str(e)}')\n",
    "    exit(1)\n"
   ]
  },
  {
   "cell_type": "code",
   "execution_count": 4,
   "id": "55205fdd",
   "metadata": {},
   "outputs": [
    {
     "name": "stdout",
     "output_type": "stream",
     "text": [
      "Metadata table created successfully\n",
      "\n",
      "Metadata:\n",
      "                table_name                                   data_path  \\\n",
      "0  ethereum_token_transfer  F:\\token_transfers\\ethereum_token_transfer   \n",
      "\n",
      "  partition_columns data_format  \n",
      "0        year,month     parquet  \n"
     ]
    }
   ],
   "source": [
    "\n",
    "# Create DuckLake metadata\n",
    "try:\n",
    "    conn.execute(\"\"\"\n",
    "        CREATE OR REPLACE TABLE metadata (\n",
    "            table_name VARCHAR,\n",
    "            data_path VARCHAR,\n",
    "            partition_columns VARCHAR,\n",
    "            data_format VARCHAR\n",
    "        )\n",
    "    \"\"\")\n",
    "    \n",
    "    conn.execute(\"\"\"\n",
    "        INSERT INTO metadata\n",
    "        VALUES (\n",
    "            'ethereum_token_transfer',\n",
    "            'F:\\token_transfers\\ethereum_token_transfer',\n",
    "            'year,month',\n",
    "            'parquet'\n",
    "        )\n",
    "    \"\"\")\n",
    "    \n",
    "    print('Metadata table created successfully')\n",
    "    \n",
    "    # Show metadata\n",
    "    metadata = conn.execute(\"SELECT * FROM metadata\").df()\n",
    "    print('\\nMetadata:')\n",
    "    print(metadata)\n",
    "    \n",
    "except Exception as e:\n",
    "    print(f'Error creating metadata: {str(e)}')\n",
    "    exit(1)\n",
    "`"
   ]
  },
  {
   "cell_type": "code",
   "execution_count": 5,
   "id": "dec8f9b8",
   "metadata": {},
   "outputs": [
    {
     "data": {
      "text/plain": [
       "'f:\\\\token_transfers'"
      ]
     },
     "execution_count": 5,
     "metadata": {},
     "output_type": "execute_result"
    }
   ],
   "source": [
    "%pwd"
   ]
  },
  {
   "cell_type": "code",
   "execution_count": 6,
   "id": "36b12fc3",
   "metadata": {},
   "outputs": [],
   "source": [
    "\n",
    "\n",
    "\n",
    "tokens = dict(\n",
    "    tether='0xdAC17F958D2ee523a2206206994597C13D831ec7',\n",
    "    usdc='0xA0b86991c6218b36c1d19D4a2e9Eb0cE3606eB48',\n",
    "    dai='0x6B175474E89094C44Da98b954EedeAC495271d0F',\n",
    "    fdusd='0xc5f0f7b66764F6ec8C8Dff7BA683102295E16409',\n",
    "    weth='0xC02aaA39b223FE8D0A0e5C4F27eAD9083C756Cc2',\n",
    "    wbtc='0x2260FAC5E5542a773Aa44fBCfeDf7C193bc2C599',\n",
    "    bnb='0xB8c77482e45F1F44dE1745F52C74426C631bDD52',\n",
    "    ada='0x3ee2200efb3400fabb9aacf31297cbdd1d435d47',\n",
    "    link='0x514910771af9ca656af840dff83e8264ecf986ca'\n",
    ")\n"
   ]
  },
  {
   "cell_type": "code",
   "execution_count": null,
   "id": "7cb8cae4",
   "metadata": {},
   "outputs": [],
   "source": [
    "for year in range(2021,2025):\n",
    "    for month in range(1, 13):\n",
    "        # Create the table\n",
    "        df_martial_law = conn.execute(f\"\"\"\n",
    "            SELECT *\n",
    "            FROM read_parquet('ethereum_token_transfer/*/*/*.parquet', hive_partitioning = true)\n",
    "            WHERE year={year} AND month={month}\n",
    "        \"\"\").df()\n",
    "\n",
    "        for k, v in tokens.items():\n",
    "            df_martial_law.loc[df_martial_law.token_address==v.lower(), 'token_name'] = k\n",
    "            \n",
    "        for v in ['token', 'from', 'to']:\n",
    "            df_martial_law = df_martial_law.merge(\n",
    "            addrs[['address']+feats], \n",
    "            left_on=f'{v}_address', right_on='address', \n",
    "            how=\"left\", validate='m:1'\n",
    "        ).rename(columns={c:f'{v}_{c}' for c in feats}).drop(columns=['address'])\n",
    "        df_martial_law['token_name'] = df_martial_law.filter(like='token_name').bfill(axis=1).iloc[:, 0]\n",
    "        df_martial_law = df_martial_law.loc[:, ~df_martial_law.columns.duplicated()]\n",
    "\n",
    "\n",
    "\n",
    "        df_ml_graph = df_martial_law[[\n",
    "            'from_name', 'to_name', 'transaction_hash', 'raw_amount', 'block_timestamp', 'from_address', 'to_address'\n",
    "        ]].copy().reset_index(drop=True)\n",
    "        for v in ['from', 'to']:\n",
    "            df_ml_graph.loc[df_ml_graph[f'{v}_name'].isna(), f'{v}_name'] =  df_ml_graph.loc[df_ml_graph[f'{v}_name'].isna(), f'{v}_address' ]\n",
    "        \n",
    "\n",
    "        df_ml_graph = df_ml_graph.drop(columns=['from_address', 'to_address'])\n",
    "        sims = pd.concat([\n",
    "            df_ml_graph.from_name.value_counts().reset_index().rename(columns={'from_name': 'name'}),\n",
    "            df_ml_graph.to_name.value_counts().reset_index().rename(columns={'to_name': 'name'})])\n",
    "        simss = sims.groupby('name').sum('count')\n",
    "        simss['year'] = year\n",
    "        simss['month'] = month\n",
    "        simss.to_csv(f'meta/{year}_{month}.csv')"
   ]
  },
  {
   "cell_type": "code",
   "execution_count": null,
   "id": "42f8cce5",
   "metadata": {},
   "outputs": [],
   "source": [
    "# import networkx as nx\n",
    "\n",
    "# G = nx.from_pandas_edgelist(df_ml_graph, source='from_name', target='to_name', edge_attr='raw_amount')\n",
    "# clusters = nx.community.greedy_modularity_communities(G)\n",
    "\n",
    "# # 클러스터 라벨 부여\n",
    "# cluster_map = {}\n",
    "# for i, cluster in enumerate(clusters):\n",
    "#     for addr in cluster:\n",
    "#         cluster_map[addr] = f'cluster_{i}'"
   ]
  },
  {
   "cell_type": "code",
   "execution_count": null,
   "id": "d3e54502",
   "metadata": {},
   "outputs": [],
   "source": [
    "# df_ml_graph['from_cluster'] = df_ml_graph['from_name'].map(cluster_map)\n",
    "# df_ml_graph['to_cluster'] = df_ml_graph['to_name'].map(cluster_map)"
   ]
  },
  {
   "cell_type": "code",
   "execution_count": 116,
   "id": "70d7f8c7",
   "metadata": {},
   "outputs": [
    {
     "ename": "InvalidIndexError",
     "evalue": "(0            True\n1            True\n2           False\n3           False\n4            True\n            ...  \n25356870     True\n25356871     True\n25356872    False\n25356873     True\n25356874    False\nName: from_name, Length: 25356875, dtype: bool, 'from_address')",
     "output_type": "error",
     "traceback": [
      "\u001b[1;31m---------------------------------------------------------------------------\u001b[0m",
      "\u001b[1;31mTypeError\u001b[0m                                 Traceback (most recent call last)",
      "File \u001b[1;32mc:\\ProgramData\\anaconda3\\Lib\\site-packages\\pandas\\core\\indexes\\base.py:3805\u001b[0m, in \u001b[0;36mIndex.get_loc\u001b[1;34m(self, key)\u001b[0m\n\u001b[0;32m   3804\u001b[0m \u001b[38;5;28;01mtry\u001b[39;00m:\n\u001b[1;32m-> 3805\u001b[0m     \u001b[38;5;28;01mreturn\u001b[39;00m \u001b[38;5;28mself\u001b[39m\u001b[38;5;241m.\u001b[39m_engine\u001b[38;5;241m.\u001b[39mget_loc(casted_key)\n\u001b[0;32m   3806\u001b[0m \u001b[38;5;28;01mexcept\u001b[39;00m \u001b[38;5;167;01mKeyError\u001b[39;00m \u001b[38;5;28;01mas\u001b[39;00m err:\n",
      "File \u001b[1;32mindex.pyx:167\u001b[0m, in \u001b[0;36mpandas._libs.index.IndexEngine.get_loc\u001b[1;34m()\u001b[0m\n",
      "File \u001b[1;32mindex.pyx:173\u001b[0m, in \u001b[0;36mpandas._libs.index.IndexEngine.get_loc\u001b[1;34m()\u001b[0m\n",
      "\u001b[1;31mTypeError\u001b[0m: '(0            True\n1            True\n2           False\n3           False\n4            True\n            ...  \n25356870     True\n25356871     True\n25356872    False\n25356873     True\n25356874    False\nName: from_name, Length: 25356875, dtype: bool, 'from_address')' is an invalid key",
      "\nDuring handling of the above exception, another exception occurred:\n",
      "\u001b[1;31mInvalidIndexError\u001b[0m                         Traceback (most recent call last)",
      "Cell \u001b[1;32mIn[116], line 12\u001b[0m\n\u001b[0;32m     10\u001b[0m df_ml_graph \u001b[38;5;241m=\u001b[39m df_martial_law_compact\u001b[38;5;241m.\u001b[39mcopy()\n\u001b[0;32m     11\u001b[0m \u001b[38;5;28;01mfor\u001b[39;00m v \u001b[38;5;129;01min\u001b[39;00m [\u001b[38;5;124m'\u001b[39m\u001b[38;5;124mfrom\u001b[39m\u001b[38;5;124m'\u001b[39m, \u001b[38;5;124m'\u001b[39m\u001b[38;5;124mto\u001b[39m\u001b[38;5;124m'\u001b[39m]:\n\u001b[1;32m---> 12\u001b[0m     df_ml_graph[df_ml_graph[\u001b[38;5;124mf\u001b[39m\u001b[38;5;124m'\u001b[39m\u001b[38;5;132;01m{\u001b[39;00mv\u001b[38;5;132;01m}\u001b[39;00m\u001b[38;5;124m_name\u001b[39m\u001b[38;5;124m'\u001b[39m]\u001b[38;5;241m.\u001b[39misna(),\u001b[38;5;124mf\u001b[39m\u001b[38;5;124m'\u001b[39m\u001b[38;5;132;01m{\u001b[39;00mv\u001b[38;5;132;01m}\u001b[39;00m\u001b[38;5;124m_name\u001b[39m\u001b[38;5;124m'\u001b[39m ] \u001b[38;5;241m=\u001b[39m  df_ml_graph[df_ml_graph[\u001b[38;5;124mf\u001b[39m\u001b[38;5;124m'\u001b[39m\u001b[38;5;132;01m{\u001b[39;00mv\u001b[38;5;132;01m}\u001b[39;00m\u001b[38;5;124m_name\u001b[39m\u001b[38;5;124m'\u001b[39m]\u001b[38;5;241m.\u001b[39misna(),\u001b[38;5;124mf\u001b[39m\u001b[38;5;124m'\u001b[39m\u001b[38;5;132;01m{\u001b[39;00mv\u001b[38;5;132;01m}\u001b[39;00m\u001b[38;5;124m_address\u001b[39m\u001b[38;5;124m'\u001b[39m ]\n\u001b[0;32m     14\u001b[0m df_martial_law_compact \u001b[38;5;241m=\u001b[39m df_martial_law_compact\u001b[38;5;241m.\u001b[39mfillna(\u001b[38;5;124m'\u001b[39m\u001b[38;5;124mundefined\u001b[39m\u001b[38;5;124m'\u001b[39m)\n\u001b[0;32m     20\u001b[0m df_martial_law_compact\n",
      "File \u001b[1;32mc:\\ProgramData\\anaconda3\\Lib\\site-packages\\pandas\\core\\frame.py:4102\u001b[0m, in \u001b[0;36mDataFrame.__getitem__\u001b[1;34m(self, key)\u001b[0m\n\u001b[0;32m   4100\u001b[0m \u001b[38;5;28;01mif\u001b[39;00m \u001b[38;5;28mself\u001b[39m\u001b[38;5;241m.\u001b[39mcolumns\u001b[38;5;241m.\u001b[39mnlevels \u001b[38;5;241m>\u001b[39m \u001b[38;5;241m1\u001b[39m:\n\u001b[0;32m   4101\u001b[0m     \u001b[38;5;28;01mreturn\u001b[39;00m \u001b[38;5;28mself\u001b[39m\u001b[38;5;241m.\u001b[39m_getitem_multilevel(key)\n\u001b[1;32m-> 4102\u001b[0m indexer \u001b[38;5;241m=\u001b[39m \u001b[38;5;28mself\u001b[39m\u001b[38;5;241m.\u001b[39mcolumns\u001b[38;5;241m.\u001b[39mget_loc(key)\n\u001b[0;32m   4103\u001b[0m \u001b[38;5;28;01mif\u001b[39;00m is_integer(indexer):\n\u001b[0;32m   4104\u001b[0m     indexer \u001b[38;5;241m=\u001b[39m [indexer]\n",
      "File \u001b[1;32mc:\\ProgramData\\anaconda3\\Lib\\site-packages\\pandas\\core\\indexes\\base.py:3817\u001b[0m, in \u001b[0;36mIndex.get_loc\u001b[1;34m(self, key)\u001b[0m\n\u001b[0;32m   3812\u001b[0m     \u001b[38;5;28;01mraise\u001b[39;00m \u001b[38;5;167;01mKeyError\u001b[39;00m(key) \u001b[38;5;28;01mfrom\u001b[39;00m \u001b[38;5;21;01merr\u001b[39;00m\n\u001b[0;32m   3813\u001b[0m \u001b[38;5;28;01mexcept\u001b[39;00m \u001b[38;5;167;01mTypeError\u001b[39;00m:\n\u001b[0;32m   3814\u001b[0m     \u001b[38;5;66;03m# If we have a listlike key, _check_indexing_error will raise\u001b[39;00m\n\u001b[0;32m   3815\u001b[0m     \u001b[38;5;66;03m#  InvalidIndexError. Otherwise we fall through and re-raise\u001b[39;00m\n\u001b[0;32m   3816\u001b[0m     \u001b[38;5;66;03m#  the TypeError.\u001b[39;00m\n\u001b[1;32m-> 3817\u001b[0m     \u001b[38;5;28mself\u001b[39m\u001b[38;5;241m.\u001b[39m_check_indexing_error(key)\n\u001b[0;32m   3818\u001b[0m     \u001b[38;5;28;01mraise\u001b[39;00m\n",
      "File \u001b[1;32mc:\\ProgramData\\anaconda3\\Lib\\site-packages\\pandas\\core\\indexes\\base.py:6059\u001b[0m, in \u001b[0;36mIndex._check_indexing_error\u001b[1;34m(self, key)\u001b[0m\n\u001b[0;32m   6055\u001b[0m \u001b[38;5;28;01mdef\u001b[39;00m \u001b[38;5;21m_check_indexing_error\u001b[39m(\u001b[38;5;28mself\u001b[39m, key):\n\u001b[0;32m   6056\u001b[0m     \u001b[38;5;28;01mif\u001b[39;00m \u001b[38;5;129;01mnot\u001b[39;00m is_scalar(key):\n\u001b[0;32m   6057\u001b[0m         \u001b[38;5;66;03m# if key is not a scalar, directly raise an error (the code below\u001b[39;00m\n\u001b[0;32m   6058\u001b[0m         \u001b[38;5;66;03m# would convert to numpy arrays and raise later any way) - GH29926\u001b[39;00m\n\u001b[1;32m-> 6059\u001b[0m         \u001b[38;5;28;01mraise\u001b[39;00m InvalidIndexError(key)\n",
      "\u001b[1;31mInvalidIndexError\u001b[0m: (0            True\n1            True\n2           False\n3           False\n4            True\n            ...  \n25356870     True\n25356871     True\n25356872    False\n25356873     True\n25356874    False\nName: from_name, Length: 25356875, dtype: bool, 'from_address')"
     ]
    }
   ],
   "source": [
    "df_martial_law_compact = df_martial_law[\n",
    "    ['block_timestamp', 'raw_amount', 'transaction_hash'] + [\n",
    "        f'{v}_{c}' for v in ['from', 'to', 'token'] for c in feats\n",
    "    ]\n",
    "].sort_values(by='block_timestamp').reset_index(drop=True).copy()\n",
    "\n",
    "\n",
    "\n",
    "df_martial_law_compact = df_martial_law_compact.fillna('undefined')\n",
    "df_martial_law_compact"
   ]
  },
  {
   "cell_type": "code",
   "execution_count": null,
   "id": "81452363",
   "metadata": {},
   "outputs": [],
   "source": []
  },
  {
   "cell_type": "code",
   "execution_count": 108,
   "id": "9b1bf862",
   "metadata": {},
   "outputs": [
    {
     "data": {
      "text/plain": [
       "Index(['block_timestamp', 'raw_amount', 'transaction_hash', 'from_name',\n",
       "       'from_serviceType', 'from_sub1Service', 'from_walletPurpose',\n",
       "       'from_sub1Wallet', 'to_name', 'to_serviceType', 'to_sub1Service',\n",
       "       'to_walletPurpose', 'to_sub1Wallet', 'token_name', 'token_serviceType',\n",
       "       'token_sub1Service', 'token_walletPurpose', 'token_sub1Wallet'],\n",
       "      dtype='object')"
      ]
     },
     "execution_count": 108,
     "metadata": {},
     "output_type": "execute_result"
    }
   ],
   "source": [
    "df_martial_law_compact.columns"
   ]
  },
  {
   "cell_type": "code",
   "execution_count": null,
   "id": "b49a5b2f",
   "metadata": {},
   "outputs": [
    {
     "data": {
      "text/html": [
       "<div>\n",
       "<style scoped>\n",
       "    .dataframe tbody tr th:only-of-type {\n",
       "        vertical-align: middle;\n",
       "    }\n",
       "\n",
       "    .dataframe tbody tr th {\n",
       "        vertical-align: top;\n",
       "    }\n",
       "\n",
       "    .dataframe thead th {\n",
       "        text-align: right;\n",
       "    }\n",
       "</style>\n",
       "<table border=\"1\" class=\"dataframe\">\n",
       "  <thead>\n",
       "    <tr style=\"text-align: right;\">\n",
       "      <th></th>\n",
       "      <th>block_timestamp</th>\n",
       "      <th>raw_amount</th>\n",
       "      <th>transaction_hash</th>\n",
       "      <th>from_name</th>\n",
       "      <th>from_serviceType</th>\n",
       "      <th>from_sub1Service</th>\n",
       "      <th>from_walletPurpose</th>\n",
       "      <th>from_sub1Wallet</th>\n",
       "      <th>to_name</th>\n",
       "      <th>to_serviceType</th>\n",
       "      <th>to_sub1Service</th>\n",
       "      <th>to_walletPurpose</th>\n",
       "      <th>to_sub1Wallet</th>\n",
       "      <th>token_name</th>\n",
       "      <th>token_serviceType</th>\n",
       "      <th>token_sub1Service</th>\n",
       "      <th>token_walletPurpose</th>\n",
       "      <th>token_sub1Wallet</th>\n",
       "    </tr>\n",
       "  </thead>\n",
       "  <tbody>\n",
       "    <tr>\n",
       "      <th>25356800</th>\n",
       "      <td>2024-12-31 23:59:59</td>\n",
       "      <td>28070</td>\n",
       "      <td>0xbc30eb2b2d2a0c39e8c7b05f24ab5f2944aaf4955ef2...</td>\n",
       "      <td>undefined</td>\n",
       "      <td>undefined</td>\n",
       "      <td>undefined</td>\n",
       "      <td>undefined</td>\n",
       "      <td>undefined</td>\n",
       "      <td>undefined</td>\n",
       "      <td>undefined</td>\n",
       "      <td>undefined</td>\n",
       "      <td>undefined</td>\n",
       "      <td>undefined</td>\n",
       "      <td>tether</td>\n",
       "      <td>undefined</td>\n",
       "      <td>undefined</td>\n",
       "      <td>undefined</td>\n",
       "      <td>undefined</td>\n",
       "    </tr>\n",
       "    <tr>\n",
       "      <th>25356812</th>\n",
       "      <td>2024-12-31 23:59:59</td>\n",
       "      <td>93567961</td>\n",
       "      <td>0xbc30eb2b2d2a0c39e8c7b05f24ab5f2944aaf4955ef2...</td>\n",
       "      <td>1inch</td>\n",
       "      <td>DeFi</td>\n",
       "      <td>undefined</td>\n",
       "      <td>undefined</td>\n",
       "      <td>undefined</td>\n",
       "      <td>undefined</td>\n",
       "      <td>undefined</td>\n",
       "      <td>undefined</td>\n",
       "      <td>undefined</td>\n",
       "      <td>undefined</td>\n",
       "      <td>tether</td>\n",
       "      <td>undefined</td>\n",
       "      <td>undefined</td>\n",
       "      <td>undefined</td>\n",
       "      <td>undefined</td>\n",
       "    </tr>\n",
       "    <tr>\n",
       "      <th>25356829</th>\n",
       "      <td>2024-12-31 23:59:59</td>\n",
       "      <td>93539891</td>\n",
       "      <td>0xbc30eb2b2d2a0c39e8c7b05f24ab5f2944aaf4955ef2...</td>\n",
       "      <td>undefined</td>\n",
       "      <td>undefined</td>\n",
       "      <td>undefined</td>\n",
       "      <td>undefined</td>\n",
       "      <td>undefined</td>\n",
       "      <td>undefined</td>\n",
       "      <td>undefined</td>\n",
       "      <td>undefined</td>\n",
       "      <td>undefined</td>\n",
       "      <td>undefined</td>\n",
       "      <td>tether</td>\n",
       "      <td>undefined</td>\n",
       "      <td>undefined</td>\n",
       "      <td>undefined</td>\n",
       "      <td>undefined</td>\n",
       "    </tr>\n",
       "    <tr>\n",
       "      <th>25356833</th>\n",
       "      <td>2024-12-31 23:59:59</td>\n",
       "      <td>93567961</td>\n",
       "      <td>0xbc30eb2b2d2a0c39e8c7b05f24ab5f2944aaf4955ef2...</td>\n",
       "      <td>undefined</td>\n",
       "      <td>undefined</td>\n",
       "      <td>undefined</td>\n",
       "      <td>undefined</td>\n",
       "      <td>undefined</td>\n",
       "      <td>undefined</td>\n",
       "      <td>undefined</td>\n",
       "      <td>undefined</td>\n",
       "      <td>undefined</td>\n",
       "      <td>undefined</td>\n",
       "      <td>tether</td>\n",
       "      <td>undefined</td>\n",
       "      <td>undefined</td>\n",
       "      <td>undefined</td>\n",
       "      <td>undefined</td>\n",
       "    </tr>\n",
       "    <tr>\n",
       "      <th>25356839</th>\n",
       "      <td>2024-12-31 23:59:59</td>\n",
       "      <td>93567961</td>\n",
       "      <td>0xbc30eb2b2d2a0c39e8c7b05f24ab5f2944aaf4955ef2...</td>\n",
       "      <td>undefined</td>\n",
       "      <td>undefined</td>\n",
       "      <td>undefined</td>\n",
       "      <td>undefined</td>\n",
       "      <td>undefined</td>\n",
       "      <td>1inch</td>\n",
       "      <td>DeFi</td>\n",
       "      <td>undefined</td>\n",
       "      <td>undefined</td>\n",
       "      <td>undefined</td>\n",
       "      <td>tether</td>\n",
       "      <td>undefined</td>\n",
       "      <td>undefined</td>\n",
       "      <td>undefined</td>\n",
       "      <td>undefined</td>\n",
       "    </tr>\n",
       "  </tbody>\n",
       "</table>\n",
       "</div>"
      ],
      "text/plain": [
       "             block_timestamp raw_amount  \\\n",
       "25356800 2024-12-31 23:59:59      28070   \n",
       "25356812 2024-12-31 23:59:59   93567961   \n",
       "25356829 2024-12-31 23:59:59   93539891   \n",
       "25356833 2024-12-31 23:59:59   93567961   \n",
       "25356839 2024-12-31 23:59:59   93567961   \n",
       "\n",
       "                                           transaction_hash  from_name  \\\n",
       "25356800  0xbc30eb2b2d2a0c39e8c7b05f24ab5f2944aaf4955ef2...  undefined   \n",
       "25356812  0xbc30eb2b2d2a0c39e8c7b05f24ab5f2944aaf4955ef2...      1inch   \n",
       "25356829  0xbc30eb2b2d2a0c39e8c7b05f24ab5f2944aaf4955ef2...  undefined   \n",
       "25356833  0xbc30eb2b2d2a0c39e8c7b05f24ab5f2944aaf4955ef2...  undefined   \n",
       "25356839  0xbc30eb2b2d2a0c39e8c7b05f24ab5f2944aaf4955ef2...  undefined   \n",
       "\n",
       "         from_serviceType from_sub1Service from_walletPurpose from_sub1Wallet  \\\n",
       "25356800        undefined        undefined          undefined       undefined   \n",
       "25356812             DeFi        undefined          undefined       undefined   \n",
       "25356829        undefined        undefined          undefined       undefined   \n",
       "25356833        undefined        undefined          undefined       undefined   \n",
       "25356839        undefined        undefined          undefined       undefined   \n",
       "\n",
       "            to_name to_serviceType to_sub1Service to_walletPurpose  \\\n",
       "25356800  undefined      undefined      undefined        undefined   \n",
       "25356812  undefined      undefined      undefined        undefined   \n",
       "25356829  undefined      undefined      undefined        undefined   \n",
       "25356833  undefined      undefined      undefined        undefined   \n",
       "25356839      1inch           DeFi      undefined        undefined   \n",
       "\n",
       "         to_sub1Wallet token_name token_serviceType token_sub1Service  \\\n",
       "25356800     undefined     tether         undefined         undefined   \n",
       "25356812     undefined     tether         undefined         undefined   \n",
       "25356829     undefined     tether         undefined         undefined   \n",
       "25356833     undefined     tether         undefined         undefined   \n",
       "25356839     undefined     tether         undefined         undefined   \n",
       "\n",
       "         token_walletPurpose token_sub1Wallet  \n",
       "25356800           undefined        undefined  \n",
       "25356812           undefined        undefined  \n",
       "25356829           undefined        undefined  \n",
       "25356833           undefined        undefined  \n",
       "25356839           undefined        undefined  "
      ]
     },
     "execution_count": 114,
     "metadata": {},
     "output_type": "execute_result"
    }
   ],
   "source": [
    "df_martial_law_compact[(df_martial_law_compact.token_name=='tether') & (df_martial_law_compact.transaction_hash=='0xbc30eb2b2d2a0c39e8c7b05f24ab5f2944aaf4955ef20bacbab2310cc17b6f26')] #.transaction_hash.at[25356839]"
   ]
  },
  {
   "cell_type": "code",
   "execution_count": null,
   "id": "88d90c0c",
   "metadata": {},
   "outputs": [],
   "source": []
  }
 ],
 "metadata": {
  "kernelspec": {
   "display_name": "DAO_voting",
   "language": "python",
   "name": "dao_voting"
  },
  "language_info": {
   "codemirror_mode": {
    "name": "ipython",
    "version": 3
   },
   "file_extension": ".py",
   "mimetype": "text/x-python",
   "name": "python",
   "nbconvert_exporter": "python",
   "pygments_lexer": "ipython3",
   "version": "3.11.10"
  }
 },
 "nbformat": 4,
 "nbformat_minor": 5
}
